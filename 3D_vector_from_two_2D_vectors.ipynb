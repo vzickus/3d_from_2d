{
 "cells": [
  {
   "cell_type": "code",
   "execution_count": 1,
   "metadata": {
    "collapsed": false
   },
   "outputs": [],
   "source": [
    "import numpy as np\n",
    "import math\n",
    "from sympy import *"
   ]
  },
  {
   "cell_type": "code",
   "execution_count": 2,
   "metadata": {
    "collapsed": false
   },
   "outputs": [
    {
     "name": "stdout",
     "output_type": "stream",
     "text": [
      "[[ 0.98767211  0.08101314  0.13394277]\n",
      " [ 0.08641011  0.43132033 -0.89805126]\n",
      " [-0.13052619  0.8985542   0.4190027 ]]\n"
     ]
    }
   ],
   "source": [
    "def rotation_matrix(axis, theta):\n",
    "    \"\"\"\n",
    "    Return the rotation matrix associated with counterclockwise rotation about\n",
    "    the given axis by theta radians.\n",
    "    \n",
    "    From: https://stackoverflow.com/a/6802723/2460137\n",
    "    \"\"\"\n",
    "    axis = np.asarray(axis)\n",
    "    axis = axis/math.sqrt(np.dot(axis, axis))\n",
    "    a = math.cos(theta/2.0)\n",
    "    b, c, d = -axis*math.sin(theta/2.0)\n",
    "    aa, bb, cc, dd = a*a, b*b, c*c, d*d\n",
    "    bc, ad, ac, ab, bd, cd = b*c, a*d, a*c, a*b, b*d, c*d\n",
    "    return np.array([[aa+bb-cc-dd, 2*(bc+ad), 2*(bd-ac)],\n",
    "                     [2*(bc-ad), aa+cc-bb-dd, 2*(cd+ab)],\n",
    "                     [2*(bd+ac), 2*(cd-ab), aa+dd-bb-cc]])\n",
    "\n",
    "# Unit vector or standard basis\n",
    "v_unit_or_basis = np.asarray([[1,0,0],[0,1,0],[0,0,1]])\n",
    "#rotate around x\n",
    "v_ar_x = (np.dot(rotation_matrix([1,0,0],(65/180.0)*np.pi), v_unit_or_basis))\n",
    "#rotate around y\n",
    "v_ar_x_y = (np.dot(rotation_matrix([0,1,0],(7.5/180.0)*np.pi), v_ar_x)) \n",
    "#rotate around z\n",
    "v_ar_x_y_z = (np.dot(rotation_matrix([0,0,1],(5/180.0)*np.pi), v_ar_x_y)) \n",
    "print v_ar_x_y_z\n",
    "#name as transformed basis\n",
    "n = v_ar_x_y_z"
   ]
  },
  {
   "cell_type": "code",
   "execution_count": 3,
   "metadata": {
    "collapsed": true
   },
   "outputs": [],
   "source": [
    "#rotated basis\n",
    "n1 = n[0] \n",
    "n2 = n[1] \n",
    "n3 = n[2]\n",
    "#Unrotated (Static) basis\n",
    "e = np.asarray([[1,0,0],[0,1,0],[0,0,1]])\n",
    "e1 = e[0]\n",
    "e2 = e[1]\n",
    "e3 = e[2]\n",
    "\n",
    "#u2 (from plane B) as projected onto the plane A, variables\n",
    "u2xx, u2yy, u2zz = symbols('u2_xx, u2_yy, u2_zz')\n",
    "#u2 vector in standard basis. V used for generality, but should be U2' for clarity\n",
    "V = (u2xx,u2yy,u2zz)"
   ]
  },
  {
   "cell_type": "code",
   "execution_count": 4,
   "metadata": {
    "collapsed": true
   },
   "outputs": [],
   "source": [
    "def solve_v(V,u2x,u2y,u2z):\n",
    "    \"\"\"\n",
    "    Return 'x,y,z' components of uknown vector V',\n",
    "    given a vector with known components of (u2x, u2y, u2z).\n",
    "    Solves the \"directional cosine matrix\"\n",
    "    \n",
    "    Based on: https://en.wikipedia.org/wiki/Euclidean_vector#Multiple_Cartesian_bases\n",
    "    See below for extract from wiki\n",
    "    \"\"\"\n",
    "    x = solve(Eq((u2x*e1 + u2y*e2 + u2z*e3).dot(n1),V[0]))\n",
    "    y = solve(Eq((u2x*e1 + u2y*e2 + u2z*e3).dot(n2),V[1]))\n",
    "    z = solve(Eq((u2x*e1 + u2y*e2 + u2z*e3).dot(n3),V[2]))\n",
    "    return x,y,z"
   ]
  },
  {
   "cell_type": "markdown",
   "metadata": {},
   "source": [
    "$u = p\\mathbf{e}_1\\cdot\\mathbf{n}_1 + q\\mathbf{e}_2\\cdot\\mathbf{n}_1 + r\\mathbf{e}_3\\cdot\\mathbf{n}_1$,\n",
    "\n",
    "$v = p\\mathbf{e}_1\\cdot\\mathbf{n}_2 + q\\mathbf{e}_2\\cdot\\mathbf{n}_2 + r\\mathbf{e}_3\\cdot\\mathbf{n}_2$,\n",
    "\n",
    "$w = p\\mathbf{e}_1\\cdot\\mathbf{n}_3 + q\\mathbf{e}_2\\cdot\\mathbf{n}_3 + r\\mathbf{e}_3\\cdot\\mathbf{n}_3$\n"
   ]
  },
  {
   "cell_type": "markdown",
   "metadata": {},
   "source": [
    "Rewriting in matrix form and changing u,v,w, p,q,r variable names:\n",
    "\n",
    "$\\begin{bmatrix} u2xx \\\\ u2yy \\\\ u2zz \\\\ \\end{bmatrix}$ $= \\begin{bmatrix} c_{11} & c_{12} & c_{13} \\\\ c_{21} & c_{22} & c_{23} \\\\ c_{31} & c_{32} & c_{33} \\end{bmatrix}$ $\\begin{bmatrix} u2x \\\\ u2y \\\\ u2z \\end{bmatrix} $"
   ]
  },
  {
   "cell_type": "code",
   "execution_count": 5,
   "metadata": {
    "collapsed": true
   },
   "outputs": [],
   "source": [
    "def distance_norms(dU, N1, N2):\n",
    "    \"\"\"\n",
    "    Return endpoints of the line of shortest distance between two\n",
    "    normal vectors (N1, N2) multiplied by some factor (lam, mu) \n",
    "    originating from the end-points of vectors\n",
    "    U1 and U2 sitting in two different planes, with a difference \n",
    "    a difference between, dU.\n",
    "    Idea for \"geometrical approach\": https://math.stackexchange.com/a/2447276/60150\n",
    "    Distance calce from: https://math.stackexchange.com/a/2213256/60150\n",
    "    Note that square of vectors are replace by dot products.\n",
    "    Notation changed: \n",
    "    L=a+bt => L=L1,a=u1, t=lam, b = N1\n",
    "    M=c+ds => M=L2, c = u2_onto_A, s = mu, d = N2\n",
    "    \"\"\"\n",
    "    A = -(N1.dot(N1) * N2.dot(N2) - (N1.dot(N2))**2)\n",
    "    \n",
    "    mu = (-(N1.dot(N1))*(N2.dot(dU)) + (N1.dot(dU))*(N2.dot(N1))) / (A)\n",
    "    \n",
    "    lam = ((N2.dot(N2))*(N1.dot(dU)) - (N1.dot(dU))*(N2.dot(N1))) / (A)\n",
    "    \n",
    "    #endpoint of line 1\n",
    "    L1 = u1 + lam*N1 \n",
    "    #endpoint of line 2\n",
    "    L2 = u2_onto_A + mu*N2\n",
    "    #distance SQUARED?!\n",
    "    D = (dU + lam*N1 - mu*N2).dot(dU + lam*N1 - mu*N2)\n",
    "\n",
    "    return L1, L2, D"
   ]
  },
  {
   "cell_type": "code",
   "execution_count": 6,
   "metadata": {
    "collapsed": false
   },
   "outputs": [],
   "source": [
    "U1 = Matrix([1.293,  -0.778, 0.0])\n",
    "U2 = Matrix([1.18232290333500, -0.273702926146914, -0.964582946390880])\n",
    "N1 = Matrix([0,0,1])\n",
    "N2 = Matrix(n[2])"
   ]
  },
  {
   "cell_type": "code",
   "execution_count": 7,
   "metadata": {
    "collapsed": false
   },
   "outputs": [
    {
     "name": "stdout",
     "output_type": "stream",
     "text": [
      "-0.037032983581\n"
     ]
    }
   ],
   "source": [
    "def distance_from_cross(U1,U2,N1,N2):\n",
    "    \"\"\"\n",
    "    This and below MD cells\n",
    "    From: https://math.stackexchange.com/a/2217845/60150\n",
    "    \"\"\"\n",
    "    #coordinates of all points along the lines:\n",
    "    #p1 = U1 + lam*N1\n",
    "    #p2 = U2 + mu*N2\n",
    "    N = N1.cross(N2)\n",
    "    d = np.float64( N.dot((U1-U2)) )/np.sqrt(np.float64(N.dot(N)))\n",
    "    return d\n",
    "\n",
    "print distance_from_cross(U1,U2,N1,N2)"
   ]
  },
  {
   "cell_type": "markdown",
   "metadata": {},
   "source": [
    "The coordinates of all the points along the lines are given by,r - points, e - direction vects\n",
    "\n",
    "$$\\begin{align} \n",
    "  \\mathbf{p}_1 & = \\mathbf{r}_1 + t_1 \\mathbf{e}_1 \\\\\n",
    "  \\mathbf{p}_2 & = \\mathbf{r}_2 + t_2 \\mathbf{e}_2 \\\\\n",
    "\\end{align}$$\n"
   ]
  },
  {
   "cell_type": "markdown",
   "metadata": {},
   "source": [
    "$$ d = \\frac{ \\mathbf{n}\\cdot \\mathbf{p}_1}{\\|\\mathbf{n}\\|} - \\frac{ \\mathbf{n}\\cdot \\mathbf{p}_2}{\\|\\mathbf{n}\\|} = \\frac{ \\mathbf{n} \\cdot ( \\mathbf{p}_1-\\mathbf{p}_2)}{\\| \\mathbf{n} \\|} = \\frac{ \\mathbf{n} \\cdot ( \\mathbf{r}_1-\\mathbf{r}_2+t_1 \\mathbf{e}_1 -t_2 \\mathbf{e}_2)}{\\| \\mathbf{n} \\|} $$"
   ]
  },
  {
   "cell_type": "markdown",
   "metadata": {},
   "source": [
    "But since $\\mathbf{n}\\cdot \\mathbf{e}_1 = \\mathbf{n}\\cdot \\mathbf{e}_2 = 0$, the above is\n",
    "\n",
    "$$ \\boxed{ \n",
    "d = \\frac{ \\mathbf{n} \\cdot ( \\mathbf{r}_1-\\mathbf{r}_2)}{\\| \\mathbf{n} \\|}\n",
    "}$$"
   ]
  },
  {
   "cell_type": "code",
   "execution_count": 9,
   "metadata": {
    "collapsed": false
   },
   "outputs": [],
   "source": [
    "uv_im19 = np.array([[  1.16 ,  -0.839,   0.   ,  10.   ,   6.2  ]])\n",
    "\n",
    "uv_im20 = np.array([[  0.933,  -0.298, -10.   ,  10.   ,  -6.2  ]])"
   ]
  },
  {
   "cell_type": "code",
   "execution_count": 10,
   "metadata": {
    "collapsed": false
   },
   "outputs": [
    {
     "name": "stdout",
     "output_type": "stream",
     "text": [
      "u2_onto_A Matrix([[0.897356166825033], [-0.0479128215210652], [-0.389550088428914]])\n"
     ]
    }
   ],
   "source": [
    "distance_list = []\n",
    "\n",
    "for v in uv_im19:\n",
    "    for u in uv_im20:\n",
    "        #Assume that the vector U2  'xyz' = (u[0], u[1],0.0)\n",
    "        u2x, u2y, u2z = u[0],u[1],0.0\n",
    "        #Projecting U2 onto plane A\n",
    "        u2_onto_A = Matrix([solve_v(V,u2x,u2y, u2z)[0][0],\n",
    "                            solve_v(V,u2x,u2y, u2z)[1][0],\n",
    "                            solve_v(V,u2x,u2y, u2z)[2][0]])\n",
    "        print \"u2_onto_A\", u2_onto_A\n",
    "        #Vector U1 'xyz' = (v[0],v[1],0.0)\n",
    "        u1 = Matrix([v[0], v[1], 0.0])\n",
    "        #I use the normal to plane A as n1z, for a standard basis that's (0 0 1)\n",
    "        N1 = Matrix([0,0,1])\n",
    "        #Similarly, using n2z\n",
    "        N2 = Matrix(n[2])\n",
    "        #print \"\\nN2:\",N2\n",
    "        #take the difference between u1 and the u2(projected onto A)\n",
    "        dU = u1 - u2_onto_A\n",
    "        #print \"\\ndU:\", dU\n",
    "        #L1,L2,D\n",
    "        la, lb, dist = distance_norms(dU, N1, N2)\n",
    "        #add the data to the list\n",
    "        distance_list.append((v,u, la, lb, dist))"
   ]
  },
  {
   "cell_type": "code",
   "execution_count": 11,
   "metadata": {
    "collapsed": false,
    "scrolled": false
   },
   "outputs": [
    {
     "name": "stdout",
     "output_type": "stream",
     "text": [
      "closest approach info, U1,U2,L1,L2,D:\n",
      "[array([  1.16 ,  -0.839,   0.   ,  10.   ,   6.2  ])\n",
      " array([  0.933,  -0.298, -10.   ,  10.   ,  -6.2  ])\n",
      " Matrix([\n",
      "[              1.16],\n",
      "[            -0.839],\n",
      "[-0.274523852104903]])\n",
      " Matrix([\n",
      "[  1.01532426452396],\n",
      "[-0.860015953066002],\n",
      "[-0.768239997879974]])\n",
      " 0.265128371317798]\n"
     ]
    }
   ],
   "source": [
    "#just converting list to an array\n",
    "arr_dist = np.asarray(distance_list)\n",
    "print \"closest approach info, U1,U2,L1,L2,D:\\n\", arr_dist[(np.where(arr_dist[:,4]==np.min(arr_dist[:,4])))][0]\n"
   ]
  },
  {
   "cell_type": "code",
   "execution_count": 12,
   "metadata": {
    "collapsed": false
   },
   "outputs": [
    {
     "name": "stdout",
     "output_type": "stream",
     "text": [
      "coeficients for plane eq: [{d: 0.13052619*x - 0.8985542*y - 0.4190027*z}]\n",
      "solving for d: [0.964582945100000]\n"
     ]
    }
   ],
   "source": [
    "#calculating the plane B\n",
    "#e = 0,0,1\n",
    "#Looking at the angle between plane A and B, this seems to be the correct way to transform. \n",
    "#I just assume the translations are not crucial at this point (for geogebra plotting)\n",
    "# From https://www.maplesoft.com/support/help/Maple/view.aspx?path=MathApps/EquationOfAPlaneNormal\n",
    "np = (-0.13052619,  0.8985542,   0.4190027 )\n",
    "p = (1.27, -0.889, 0.0)\n",
    "x,y,z,d = symbols('x,y,z,d')\n",
    "print 'coeficients for plane eq:', solve(x*np[0] + y*np[1] + z*np[2] + d)\n",
    "#print p[0]*np[0],p[1]*np[1], p[2]*np[2] \n",
    "print 'solving for d:', solve(p[0]*np[0]+ p[1]*np[1]+ p[2]*np[2]+ d)"
   ]
  }
 ],
 "metadata": {
  "kernelspec": {
   "display_name": "Python 2",
   "language": "python",
   "name": "python2"
  },
  "language_info": {
   "codemirror_mode": {
    "name": "ipython",
    "version": 2
   },
   "file_extension": ".py",
   "mimetype": "text/x-python",
   "name": "python",
   "nbconvert_exporter": "python",
   "pygments_lexer": "ipython2",
   "version": "2.7.11"
  }
 },
 "nbformat": 4,
 "nbformat_minor": 2
}
